{
 "cells": [
  {
   "cell_type": "code",
   "execution_count": 1,
   "metadata": {},
   "outputs": [],
   "source": [
    "import os\n",
    "import shutil"
   ]
  },
  {
   "cell_type": "code",
   "execution_count": 21,
   "metadata": {},
   "outputs": [],
   "source": [
    "def organize_photos(base_folder):\n",
    "    # List all folders in the specified directory\n",
    "    folder_list = os.listdir('/Users/melek/Desktop/project/output')\n",
    "\n",
    "    for folder_name in folder_list:\n",
    "        # Separate the car make and model from the folder name\n",
    "        make, model = folder_name.split(' ', 1)\n",
    "\n",
    "        # Create a folder named after the car make outside the base folder\n",
    "        make_folder_path = os.path.join(os.path.dirname(base_folder), make)\n",
    "        os.makedirs(make_folder_path, exist_ok=True)\n",
    "\n",
    "        # Create a subfolder named after the car model inside the make folder\n",
    "        model_folder_path = os.path.join(make_folder_path, model)\n",
    "        os.makedirs(model_folder_path, exist_ok=True)\n",
    "\n",
    "        # Get the photos inside the current folder and copy them to the model folder\n",
    "        current_folder_path = os.path.join(base_folder, folder_name)\n",
    "        for root, dirs, files in os.walk(current_folder_path):\n",
    "            for file in files:\n",
    "                if file.lower().endswith(('.jpg', '.jpeg', '.png', '.gif')):\n",
    "                    file_path = os.path.join(root, file)\n",
    "                    destination_path = os.path.join(model_folder_path, file)\n",
    "                    shutil.copy(file_path, destination_path)"
   ]
  },
  {
   "cell_type": "code",
   "execution_count": null,
   "metadata": {},
   "outputs": [],
   "source": [
    "\n",
    "if __name__ == \"__main__\":\n",
    "    # Replace 'base_folder_path' with the actual path of your base folder\n",
    "    base_folder_path = '/Users/melek/Desktop/project/output'\n",
    "\n",
    "    # Perform the organization of photos\n",
    "    organize_photos(base_folder_path)\n"
   ]
  },
  {
   "cell_type": "code",
   "execution_count": null,
   "metadata": {},
   "outputs": [],
   "source": []
  }
 ],
 "metadata": {
  "kernelspec": {
   "display_name": "Python 3",
   "language": "python",
   "name": "python3"
  },
  "language_info": {
   "codemirror_mode": {
    "name": "ipython",
    "version": 3
   },
   "file_extension": ".py",
   "mimetype": "text/x-python",
   "name": "python",
   "nbconvert_exporter": "python",
   "pygments_lexer": "ipython3",
   "version": "3.11.0"
  }
 },
 "nbformat": 4,
 "nbformat_minor": 2
}
