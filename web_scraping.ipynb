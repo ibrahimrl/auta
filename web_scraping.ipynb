{
 "cells": [
  {
   "cell_type": "code",
   "execution_count": 44,
   "metadata": {},
   "outputs": [],
   "source": [
    "import os\n",
    "import requests\n",
    "from bs4 import BeautifulSoup\n",
    "from urllib.parse import urljoin"
   ]
  },
  {
   "cell_type": "code",
   "execution_count": 82,
   "metadata": {},
   "outputs": [],
   "source": [
    "website = 'https://turbo.az/'\n",
    "\n",
    "query_beginning = 'autos?page='\n",
    "\n",
    "page_numbers = {\"Mercedes\": 250, \"Bmw\": 110, \"Skoda\": 4}\n",
    "\n",
    "cars_query = {\"Mercedes\":\"&q%5Bbarter%5D=0&q%5Bcrashed%5D=1&q%5Bcurrency%5D=azn&q%5Bengine_volume_from%5D=&q%5Bengine_volume_to%5D=&q%5Bfor_spare_parts%5D=0&q%5Bloan%5D=0&q%5Bmake%5D%5B%5D=4&q%5Bmileage_from%5D=&q%5Bmileage_to%5D=&q%5Bonly_shops%5D=&q%5Bpainted%5D=1&q%5Bpower_from%5D=&q%5Bpower_to%5D=&q%5Bprice_from%5D=&q%5Bprice_to%5D=&q%5Bregion%5D%5B%5D=&q%5Bsort%5D=&q%5Bused%5D=&q%5Byear_from%5D=&q%5Byear_to%5D=\", \n",
    "        \"Bmw\":\"&q%5Bbarter%5D=0&q%5Bcrashed%5D=1&q%5Bcurrency%5D=azn&q%5Bengine_volume_from%5D=&q%5Bengine_volume_to%5D=&q%5Bfor_spare_parts%5D=0&q%5Bloan%5D=0&q%5Bmake%5D%5B%5D=3&q%5Bmileage_from%5D=&q%5Bmileage_to%5D=&q%5Bonly_shops%5D=&q%5Bpainted%5D=1&q%5Bpower_from%5D=&q%5Bpower_to%5D=&q%5Bprice_from%5D=&q%5Bprice_to%5D=&q%5Bregion%5D%5B%5D=&q%5Bsort%5D=&q%5Bused%5D=&q%5Byear_from%5D=&q%5Byear_to%5D=\",\n",
    "        \"Skoda\":\"&q%5Bbarter%5D=0&q%5Bcrashed%5D=1&q%5Bcurrency%5D=azn&q%5Bengine_volume_from%5D=&q%5Bengine_volume_to%5D=&q%5Bfor_spare_parts%5D=0&q%5Bloan%5D=0&q%5Bmake%5D%5B%5D=22&q%5Bmileage_from%5D=&q%5Bmileage_to%5D=&q%5Bonly_shops%5D=&q%5Bpainted%5D=1&q%5Bpower_from%5D=&q%5Bpower_to%5D=&q%5Bprice_from%5D=&q%5Bprice_to%5D=&q%5Bregion%5D%5B%5D=&q%5Bsort%5D=&q%5Bused%5D=&q%5Byear_from%5D=&q%5Byear_to%5D=\"}\n"
   ]
  },
  {
   "cell_type": "code",
   "execution_count": null,
   "metadata": {},
   "outputs": [],
   "source": [
    "for j in range(len(cars_query)):\n",
    "    for i in range(list(page_numbers.values())[j]):\n",
    "        url = f'{website}{query_beginning}{i}{list(cars_query.values())[j]}'\n",
    "        headers = {'User-Agent': 'Mozilla/5.0 (Macintosh; Intel Mac OS X 10_15_7) AppleWebKit/605.1.15 (KHTML, like Gecko) Version/16.3 Safari/605.1.15'}\n",
    "        print(url)\n",
    "        response = requests.get(url, headers= headers)\n",
    "\n",
    "        if response.status_code == 200:\n",
    "\n",
    "            soup = BeautifulSoup(response.text, 'html.parser')\n",
    "\n",
    "            model_names = [h2.text for h2 in soup.find_all('div', class_='products-i__name products-i__bottom-text')]\n",
    "            model_years = [h2.text.split(',')[0] for h2 in soup.find_all('div', class_='products-i__attributes products-i__bottom-text')]\n",
    "            photos = [img['src'] for img in soup.find_all('img')]\n",
    "\n",
    "            photo_urls = []\n",
    "            for img in soup.find_all('img'):\n",
    "                if 'https://turbo.azstatic.com/uploads/' in img['src']:\n",
    "                    photo_urls.append(img['src'])\n",
    "\n",
    "            i = 1;\n",
    "            for model_name, photo_url in zip(model_names, photo_urls):\n",
    "                folder_path = os.path.join('output', model_name + '_' + model_years[i-1])\n",
    "\n",
    "                # Check if the folder already exists\n",
    "                if not os.path.exists(folder_path):\n",
    "                    os.makedirs(folder_path)\n",
    "\n",
    "                photo_filename = os.path.join(folder_path, f'{model_name}_{model_years[i-1]}photo_{i}.jpg')\n",
    "                photo_url = urljoin(url, photo_url)\n",
    "                photo_data = requests.get(photo_url).content\n",
    "                i += 1\n",
    "\n",
    "                with open(photo_filename, 'ab') as photo_file:\n",
    "                    photo_file.write(photo_data)\n",
    "\n",
    "print(\"Scraping is complete.\")\n"
   ]
  }
 ],
 "metadata": {
  "kernelspec": {
   "display_name": "Python 3",
   "language": "python",
   "name": "python3"
  },
  "language_info": {
   "codemirror_mode": {
    "name": "ipython",
    "version": 3
   },
   "file_extension": ".py",
   "mimetype": "text/x-python",
   "name": "python",
   "nbconvert_exporter": "python",
   "pygments_lexer": "ipython3",
   "version": "3.11.0"
  }
 },
 "nbformat": 4,
 "nbformat_minor": 2
}
